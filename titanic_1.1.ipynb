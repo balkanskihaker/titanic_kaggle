{
 "cells": [
  {
   "cell_type": "code",
   "execution_count": null,
   "metadata": {},
   "outputs": [],
   "source": [
    "import pandas as pd\n",
    "import numpy as np\n",
    "import matplotlib.pyplot as plt\n",
    "import seaborn as sns\n",
    "\n",
    "from sklearn.neighbors import KNeighborsRegressor\n",
    "from sklearn.metrics import accuracy_score\n",
    "\n",
    "from sklearn.linear_model import LogisticRegression"
   ]
  },
  {
   "cell_type": "code",
   "execution_count": null,
   "metadata": {},
   "outputs": [],
   "source": [
    "# Ucitavanje training podataka\n",
    "train_data = pd.read_csv('./train.csv')\n",
    "# Ucitvanje test podataka\n",
    "test_data = pd.read_csv('./test.csv')"
   ]
  },
  {
   "cell_type": "code",
   "execution_count": null,
   "metadata": {},
   "outputs": [],
   "source": [
    "# Kratak pregled training podataka\n",
    "train_data.info()\n",
    "# Kratak pregled test podataka\n",
    "test_data.info()"
   ]
  },
  {
   "cell_type": "code",
   "execution_count": null,
   "metadata": {},
   "outputs": [],
   "source": [
    "# Iz nepoznatog razloga nece da se zameni, pa je odradjena rucna zamena\n",
    "test_data.loc[test_data['PassengerId'] == 1306, 'Name'] = 'Dona.'\n",
    "\n",
    "# Spajanje training i test podataka u jednu tabelu\n",
    "train_test = pd.concat([train_data, test_data], axis=0)\n",
    "# Zadrzavanje indeksa\n",
    "train_test = train_test.reset_index(drop=True) \n",
    "# Pclass kolona sadrzi numericke podatke kategorickog tipa, pa se pretvara u string kako bi radila funkcija get_dumies\n",
    "train_test['Pclass'] = train_test['Pclass'].apply(lambda x: str(x))"
   ]
  },
  {
   "cell_type": "code",
   "execution_count": null,
   "metadata": {},
   "outputs": [],
   "source": [
    "# Odbacivanje kolona Ticket i Cabin zato sto ne sadrze korisne informacije\n",
    "train_test = train_test.drop(['Ticket', 'Cabin'], axis=1)"
   ]
  },
  {
   "cell_type": "code",
   "execution_count": null,
   "metadata": {},
   "outputs": [],
   "source": [
    "# Rucno izdvojene sve titule\n",
    "honorifics = ['Mr.',\n",
    "              'Mrs.',\n",
    "              'Miss.',\n",
    "              'Rev.',\n",
    "              'Master.',\n",
    "              'Dr.',\n",
    "              'Don.',\n",
    "              'Sir.',\n",
    "              'Mlle.',\n",
    "              'Mme.',\n",
    "              'Major.',\n",
    "              'Countess.',\n",
    "              'Lady.',\n",
    "              'Dona.',\n",
    "              'Capt.']\n",
    "\n",
    "# Funkcija za zamenu imena titulom\n",
    "def change_to_honorific(name):\n",
    "    for honorific in honorifics:\n",
    "        if honorific in name:\n",
    "            return honorific\n",
    "\n",
    "# Zamena svih imena odgovarajucom titulom\n",
    "train_test['Name'] = train_test['Name'].apply(change_to_honorific)"
   ]
  },
  {
   "cell_type": "code",
   "execution_count": null,
   "metadata": {},
   "outputs": [],
   "source": [
    "# Izdvajanje svih kategorija\n",
    "train_test = pd.get_dummies(train_test)\n",
    "# Funkcija get_dumies nove kolone popunjava sa True i False, tako da se radi zamena True u 1 i False u 0\n",
    "train_test.replace({True: 1, False: 0}, inplace=True)"
   ]
  },
  {
   "cell_type": "code",
   "execution_count": null,
   "metadata": {},
   "outputs": [],
   "source": [
    "# Odbacivanje kolone Survived\n",
    "train_test = train_test.drop('Survived', axis=1)"
   ]
  },
  {
   "cell_type": "code",
   "execution_count": null,
   "metadata": {},
   "outputs": [],
   "source": [
    "# Odvajanje svih redova kojima fali podatak u koloni Age\n",
    "y = train_test[train_test['Age'].notna()]['Age']\n",
    "# Odvajanje svih kategorija sa titulama, polom i godinama na osnovu kojih cemo dopuniti podatke koji fale u koloni Age\n",
    "X = train_test[['Name_Capt.',\n",
    "                'Name_Countess.',\n",
    "                'Name_Don.',\n",
    "                'Name_Dona.',\n",
    "                'Name_Dr.',\n",
    "                'Name_Lady.',\n",
    "                'Name_Major.',\n",
    "                'Name_Master.',\n",
    "                'Name_Miss.',\n",
    "                'Name_Mlle.',\n",
    "                'Name_Mme.',\n",
    "                'Name_Mr.',\n",
    "                'Name_Mrs.',\n",
    "                'Name_Rev.',\n",
    "                'Name_Sir.',\n",
    "                'Sex_female',\n",
    "                'Sex_male',\n",
    "                'Age']]\n",
    "\n",
    "# Odbacivanje redova kojim fali podatak u koloni Age\n",
    "X = X[X['Age'].notna()]\n",
    "# Odbacivanje kolone Age\n",
    "X = X.drop('Age', axis=1)"
   ]
  },
  {
   "cell_type": "code",
   "execution_count": null,
   "metadata": {},
   "outputs": [],
   "source": [
    "# Odvajanje ostalih redova kojima fali podatak u koloni Age\n",
    "X_missing = train_test[train_test['Age'].isnull()][['Name_Capt.',\n",
    "                                                    'Name_Countess.',\n",
    "                                                    'Name_Don.',\n",
    "                                                    'Name_Dr.',\n",
    "                                                    'Name_Lady.',\n",
    "                                                    'Name_Major.',\n",
    "                                                    'Name_Master.',\n",
    "                                                    'Name_Miss.',\n",
    "                                                    'Name_Mlle.',\n",
    "                                                    'Name_Mme.',\n",
    "                                                    'Name_Mr.',\n",
    "                                                    'Name_Mrs.',\n",
    "                                                    'Name_Rev.',\n",
    "                                                    'Name_Sir.',\n",
    "                                                    'Name_Dona.',\n",
    "                                                    'Sex_female',\n",
    "                                                    'Sex_male',]]\n",
    "\n",
    "# Isprobao sam jos modela, ali KNeighborsRegressor daje najbolji rezultat\n",
    "knn_regressor = KNeighborsRegressor(n_neighbors=17)\n",
    "# Fit-ovanje modela X i y podacima\n",
    "knn_regressor.fit(X, y)"
   ]
  },
  {
   "cell_type": "code",
   "execution_count": null,
   "metadata": {},
   "outputs": [],
   "source": [
    "# Izdvajanje podataka nad kojim ce se vrsiti predvidjanje podataka koji fale u koloni Age\n",
    "X_missing = X_missing[X.columns.to_list()]"
   ]
  },
  {
   "cell_type": "code",
   "execution_count": null,
   "metadata": {},
   "outputs": [],
   "source": [
    "# Predvidjanje tih podataka\n",
    "y_predicted = knn_regressor.predict(X_missing)\n",
    "# Popunjavanje praznih polja u koloni Age sa predvidjenim podacima\n",
    "train_test.loc[train_test['Age'].isnull(), 'Age'] = y_predicted"
   ]
  },
  {
   "cell_type": "code",
   "execution_count": null,
   "metadata": {},
   "outputs": [],
   "source": [
    "plt.figure(figsize=(32,16))\n",
    "sns.heatmap(train_test.corr(), annot=True, cmap='YlGnBu')"
   ]
  },
  {
   "cell_type": "code",
   "execution_count": null,
   "metadata": {},
   "outputs": [],
   "source": [
    "columns_to_drop =  ['Name_Capt.',\n",
    "                    'Name_Countess.',\n",
    "                    'Name_Don.',\n",
    "                    'Name_Dr.',\n",
    "                    'Name_Lady.',\n",
    "                    'Name_Major.',\n",
    "                    'Name_Master.',\n",
    "                    'Name_Miss.',\n",
    "                    'Name_Mlle.',\n",
    "                    'Name_Mme.',\n",
    "                    'Name_Mr.',\n",
    "                    'Name_Mrs.',\n",
    "                    'Name_Rev.',\n",
    "                    'Name_Sir.',\n",
    "                    'Name_Dona.']\n",
    "\n",
    "# Odbacivanje svih kolona sa titulama jer su nepotrebne za dalji proces\n",
    "for column in columns_to_drop:\n",
    "    train_test = train_test.drop(column, axis=1)"
   ]
  },
  {
   "cell_type": "code",
   "execution_count": null,
   "metadata": {},
   "outputs": [],
   "source": [
    "# Popunjavanje jednog izgubljenog podatka iz kolone Fare srednjom vrednoscu preostalih podataka iste kolone\n",
    "train_test.loc[train_test['PassengerId'] == 1044, 'Fare'] = train_test['Fare'].mean()"
   ]
  },
  {
   "cell_type": "code",
   "execution_count": null,
   "metadata": {},
   "outputs": [],
   "source": [
    "plt.figure(figsize=(12,6))\n",
    "sns.heatmap(train_test.corr(), annot=True, cmap='YlGnBu')"
   ]
  },
  {
   "cell_type": "code",
   "execution_count": null,
   "metadata": {},
   "outputs": [],
   "source": [
    "train_test.hist(figsize=(14,10))"
   ]
  },
  {
   "cell_type": "code",
   "execution_count": null,
   "metadata": {},
   "outputs": [],
   "source": [
    "# Skaliranje podataka ne doprinosi poboljsanju kod ovog problema, isti rezultat se dobija\n",
    "#scaler = StandardScaler()\n",
    "#scaled_data = scaler.fit_transform(train_test)\n",
    "#scaled = pd.DataFrame(scaled_data, columns=train_test.columns)"
   ]
  },
  {
   "cell_type": "code",
   "execution_count": null,
   "metadata": {},
   "outputs": [],
   "source": [
    "# Odvajanje training podataka\n",
    "train = train_test.iloc[:891]\n",
    "# Odvajanje test podataka\n",
    "test = train_test.iloc[891:]"
   ]
  },
  {
   "cell_type": "code",
   "execution_count": null,
   "metadata": {},
   "outputs": [],
   "source": [
    "model = LogisticRegression()\n",
    "\n",
    "# Odvajanje y podataka za fit-ovanje modela \n",
    "survived = train_data['Survived']\n",
    "# Odvajanje indeksa iz kolone PassengerId za koje se vrsi predvidjanje \n",
    "PassengerId = test['PassengerId']\n",
    "# Odvajanje X podataka za fit-ovanje modela, ali se odbacuje kolona PassengerId zato sto nije od znacaja\n",
    "train = train.drop('PassengerId', axis=1)\n",
    "# Odvajanje X podataka sa kojima se vrsi predvidjanje, ali se odbacuje kolona PassengerId zato sto nije od znacaja\n",
    "test = test.drop('PassengerId', axis=1)"
   ]
  },
  {
   "cell_type": "code",
   "execution_count": null,
   "metadata": {},
   "outputs": [],
   "source": [
    "# Fit-ovanje modela train i survived podacima\n",
    "model.fit(X=train, y=survived)"
   ]
  },
  {
   "cell_type": "code",
   "execution_count": null,
   "metadata": {},
   "outputs": [],
   "source": [
    "# Predvidjanje modela test podacima\n",
    "prediction = model.predict(X=test)"
   ]
  },
  {
   "cell_type": "code",
   "execution_count": null,
   "metadata": {},
   "outputs": [],
   "source": [
    "submission = pd.DataFrame()\n",
    "submission['PassengerId'] = PassengerId\n",
    "submission['Survived'] = prediction"
   ]
  },
  {
   "cell_type": "code",
   "execution_count": null,
   "metadata": {},
   "outputs": [],
   "source": [
    "# Ucitavanje stvarnih vrednosti koje je trebalo predvideti\n",
    "real_data = pd.read_csv('./gender_submission.csv')"
   ]
  },
  {
   "cell_type": "code",
   "execution_count": null,
   "metadata": {},
   "outputs": [],
   "source": [
    "# Eksportovanje tabele kao krajnji rezultat\n",
    "submission.to_csv('submission.csv', index=False)"
   ]
  }
 ],
 "metadata": {
  "kernelspec": {
   "display_name": "base",
   "language": "python",
   "name": "python3"
  },
  "language_info": {
   "codemirror_mode": {
    "name": "ipython",
    "version": 3
   },
   "file_extension": ".py",
   "mimetype": "text/x-python",
   "name": "python",
   "nbconvert_exporter": "python",
   "pygments_lexer": "ipython3",
   "version": "3.11.4"
  }
 },
 "nbformat": 4,
 "nbformat_minor": 2
}
